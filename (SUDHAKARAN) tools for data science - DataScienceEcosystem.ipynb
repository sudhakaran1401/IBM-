{
 "cells": [
  {
   "cell_type": "markdown",
   "id": "924d9b72-1f08-444e-a49d-aa679f61d2bd",
   "metadata": {},
   "source": [
    "<H3>Data Science Tools and Ecosystem</H3>"
   ]
  },
  {
   "cell_type": "markdown",
   "id": "f0ea4ea3-1b53-4f8a-8e0a-a6c4aa8f13b5",
   "metadata": {},
   "source": [
    "In this notebook, Data Science Tools and Ecosystem are summarized"
   ]
  },
  {
   "cell_type": "markdown",
   "id": "8aaa048a-c649-461e-95e9-0c94e88be261",
   "metadata": {},
   "source": [
    "<b>Objectives:</b>\n",
    "<ul>\n",
    "    <li> popular languages that Data Scientist </li>\n",
    "    <li> commonly used libraries used by Data Scientists </li>\n",
    "    <li> Data Science Tools</li>\n",
    "    <li> Examples</li>\n",
    "</ul>"
   ]
  },
  {
   "cell_type": "markdown",
   "id": "4b4b5757-98c1-4740-ac90-589702c83120",
   "metadata": {},
   "source": [
    "Some of the popular languages that Data Scientists use are:\n",
    "<ol>\n",
    "    <li>JAVA</li>\n",
    "    <li>PYTHON</li>\n",
    "    <li>SQL</li>\n",
    "    <li>R</li>\n",
    "    <li>JAVASCRIPT</li>\n",
    "    <li>C++</li>\n",
    "</ol>"
   ]
  },
  {
   "cell_type": "markdown",
   "id": "23b19f62-230b-489c-8e96-7fe29ffca8f2",
   "metadata": {},
   "source": [
    "Some of the commonly used libraries used by Data Scientists include:\n",
    "<ol>\n",
    "    <li>SCIKIT LEARN</li>\n",
    "    <li>SEABORN</li>\n",
    "    <li>NUMPY</li>\n",
    "    <li>PANDAS</li>\n",
    "    <li>KERAS</li>\n",
    "    <li>TENSORFLOW</li>\n",
    "</ol>"
   ]
  },
  {
   "cell_type": "markdown",
   "id": "96807fa9-26c2-4e13-b01e-6a5f5db1b604",
   "metadata": {},
   "source": [
    "<TABLE>\n",
    "    <TR>\n",
    "        <TD><H3>Data Science Tools</H3></TD>\n",
    "    </TR>\n",
    "    <TR>\n",
    "        <TD>WEKA TOOL</TD>\n",
    "    </TR>\n",
    "    <TR>\n",
    "        <TD>JUPITER NOTEBOOKS</TD>\n",
    "    </TR>\n",
    "    <TR>\n",
    "        <TD>RAPID MINER</TD>\n",
    "    </TR>\n",
    "    <TR>\n",
    "        <TD>APACHE HADOOP</TD>\n",
    "    </TR>\n",
    "    <TR>\n",
    "        <TD>MONGO DB</TD>\n",
    "    </TR>\n",
    "</TABLE>"
   ]
  },
  {
   "cell_type": "markdown",
   "id": "caf4ba79-bbe2-40cd-9640-c72000c1ae99",
   "metadata": {},
   "source": [
    "<H3>Below are a few examples of evaluating arithmetic expressions in Python</H3>"
   ]
  },
  {
   "cell_type": "code",
   "execution_count": 6,
   "id": "c3333715-8606-4317-a874-09243181250c",
   "metadata": {
    "tags": []
   },
   "outputs": [
    {
     "name": "stdout",
     "output_type": "stream",
     "text": [
      "17\n"
     ]
    }
   ],
   "source": [
    "# This a simple arithmetic expression to mutiply then add integers\n",
    "print((3*4)+5)"
   ]
  },
  {
   "cell_type": "code",
   "execution_count": 7,
   "id": "e96a7deb-2645-4942-a08e-721eeb06d0da",
   "metadata": {
    "tags": []
   },
   "outputs": [
    {
     "name": "stdout",
     "output_type": "stream",
     "text": [
      "3.3333333333333335 hours\n"
     ]
    }
   ],
   "source": [
    "# This will convert 200 minutes to hours by diving by 60\n",
    "print(200/60, \"hours\")"
   ]
  },
  {
   "cell_type": "markdown",
   "id": "e14b7dd3-8665-4e5c-852a-90fccc66b21a",
   "metadata": {},
   "source": [
    "<H2>Author</H2>\n",
    "Sudhakaran S"
   ]
  },
  {
   "cell_type": "code",
   "execution_count": null,
   "id": "07caf86b-f582-4f22-8ecd-de1941e8fe77",
   "metadata": {},
   "outputs": [],
   "source": []
  }
 ],
 "metadata": {
  "kernelspec": {
   "display_name": "Python",
   "language": "python",
   "name": "conda-env-python-py"
  },
  "language_info": {
   "codemirror_mode": {
    "name": "ipython",
    "version": 3
   },
   "file_extension": ".py",
   "mimetype": "text/x-python",
   "name": "python",
   "nbconvert_exporter": "python",
   "pygments_lexer": "ipython3",
   "version": "3.7.12"
  }
 },
 "nbformat": 4,
 "nbformat_minor": 5
}
